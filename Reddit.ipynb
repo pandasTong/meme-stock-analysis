{
 "cells": [
  {
   "cell_type": "code",
   "execution_count": 28,
   "id": "structural-schedule",
   "metadata": {},
   "outputs": [],
   "source": [
    "import pandas as pd\n",
    "import numpy as np\n",
    "\n",
    "from sklearn.model_selection import train_test_split\n",
    "from sklearn.feature_extraction.text import TfidfVectorizer\n",
    "from sklearn.svm import LinearSVC, SVC\n",
    "from sklearn.calibration import CalibratedClassifierCV\n",
    "from sklearn.model_selection import cross_val_score\n",
    "from sklearn import metrics\n",
    "from sklearn.metrics import confusion_matrix, accuracy_score\n",
    "# from imblearn.over_sampling import SMOTE\n",
    "import seaborn as sn\n",
    "import matplotlib.pyplot as plt"
   ]
  },
  {
   "cell_type": "code",
   "execution_count": 2,
   "id": "silent-demographic",
   "metadata": {},
   "outputs": [],
   "source": [
    "df = pd.read_csv('2020_WSB.csv')"
   ]
  },
  {
   "cell_type": "code",
   "execution_count": 3,
   "id": "norman-milan",
   "metadata": {
    "scrolled": false
   },
   "outputs": [
    {
     "name": "stderr",
     "output_type": "stream",
     "text": [
      "<ipython-input-3-799097ac6e58>:9: SettingWithCopyWarning: \n",
      "A value is trying to be set on a copy of a slice from a DataFrame\n",
      "\n",
      "See the caveats in the documentation: https://pandas.pydata.org/pandas-docs/stable/user_guide/indexing.html#returning-a-view-versus-a-copy\n",
      "  df_response['body'][(df_response['body'] == '[removed]')\n",
      "<ipython-input-3-799097ac6e58>:12: SettingWithCopyWarning: \n",
      "A value is trying to be set on a copy of a slice from a DataFrame\n",
      "\n",
      "See the caveats in the documentation: https://pandas.pydata.org/pandas-docs/stable/user_guide/indexing.html#returning-a-view-versus-a-copy\n",
      "  df_response['body'][df_response['body'] == 'text'] = ''\n"
     ]
    }
   ],
   "source": [
    "# 1ST TEST - credibility\n",
    "df_response = df[(df.score != 1) & (df.upvote != 1)]\n",
    "df_response = df_response[(df_response.domain != 'reddit.com')]\n",
    "# content type (image, video etc.)\n",
    "df_response['content'] = df_response.domain.apply(lambda x: 'text' if x == 'self.wallstreetbets' \n",
    "                      else('image' if x == 'i.redd.it' \n",
    "                           else('gif' if x in ['i.imgur.com', 'imgur.com'] \n",
    "                                else('video' if x in ['v.redd.it', 'youtu.be', 'youtube.com'] else 'news'))))\n",
    "df_response['body'][(df_response['body'] == '[removed]') \n",
    "                    | (df_response['body'] == '[deleted]') \n",
    "                    | (df_response['body'].isnull() == True)] = df_response['content']\n",
    "df_response['body'][df_response['body'] == 'text'] = ''\n",
    "df_response['fulltext'] = df_response['title'] + ' ' + df_response['body']\n",
    "# credit\n",
    "upvote75 = df_response['upvote'].quantile(0.75)\n",
    "score75 = df_response['score'].quantile(0.75)\n",
    "def conditions(s):\n",
    "    if (s['score'] >= score75) and (s['upvote'] >= upvote75):\n",
    "        return 'HIGH'\n",
    "    else:\n",
    "        return 'LOW'\n",
    "df_response['credibility'] = df_response.apply(conditions, axis = 1)"
   ]
  },
  {
   "cell_type": "code",
   "execution_count": 4,
   "id": "modular-guyana",
   "metadata": {},
   "outputs": [],
   "source": [
    "X = df_response.loc[:,['fulltext']]\n",
    "y = df_response.credibility\n",
    "X_train, X_test, y_train, y_test = train_test_split(X, y, test_size=0.2, stratify=y)"
   ]
  },
  {
   "cell_type": "code",
   "execution_count": 5,
   "id": "overhead-salem",
   "metadata": {
    "scrolled": false
   },
   "outputs": [],
   "source": [
    "X_train_docs = [doc for doc in X_train.fulltext]\n",
    "vect = TfidfVectorizer(ngram_range=(1, 2), stop_words=\"english\", max_features=3000,token_pattern=r'\\b[^_\\d\\W]+\\b').fit(X_train_docs)\n",
    "X_train_features = vect.transform(X_train_docs)"
   ]
  },
  {
   "cell_type": "code",
   "execution_count": 6,
   "id": "pointed-warning",
   "metadata": {
    "scrolled": false
   },
   "outputs": [
    {
     "name": "stdout",
     "output_type": "stream",
     "text": [
      "Number of features: 3000\n",
      "First 100 features:\n",
      "['aal', 'aapl', 'ability', 'able', 'absolute', 'absolutely', 'acb', 'access', 'according', 'account', 'accounting', 'accounts', 'accurate', 'ackman', 'acquire', 'acquired', 'acquisition', 'act', 'action', 'actions', 'active', 'activity', 'actual', 'actually', 'ad', 'add', 'added', 'adding', 'addition', 'additional', 'additionally', 'adjusted', 'administration', 'ads', 'advance', 'advanced', 'advantage', 'advertising', 'advice', 'af', 'affect', 'affected', 'afford', 'afternoon', 'age', 'aggressive', 'ago', 'agree', 'agreement', 'ah', 'ahead', 'ai', 'aid', 'ain', 'ain t', 'air', 'airbnb', 'airline', 'airlines', 'aka', 'alert', 'algos', 'alibaba', 'alive', 'allow', 'allowed', 'allowing', 'allows', 'alright', 'alternative', 'amazing', 'amazon', 'amc', 'amd', 'america', 'american', 'americans', 'ameritrade', 'amid', 'amounts', 'amp', 'amp amp', 'amp s', 'amzn', 'analysis', 'analyst', 'analysts', 'announce', 'announced', 'announcement', 'announces', 'annual', 'answer', 'anti', 'antibody', 'anticipated', 'anybody', 'anymore', 'anytime', 'anyways']\n",
      "Every 100th feature:\n",
      "['aal', 'app', 'beat consensus', 'bull market', 'checks', 'competitors', 'currently', 'disclaimer', 'em', 'eyes', 'follow', 'god', 'high', 'index', 'just got', 'living', 'market earnings', 'movie', 'operations', 'picked', 'private', 'reading', 'reversal', 'season', 'sleep', 'stock symbol', 'td', 'trading days', 'usual', 'wife']\n"
     ]
    }
   ],
   "source": [
    "feature_names = vect.get_feature_names()\n",
    "print(\"Number of features: {}\".format(len(feature_names)))\n",
    "print(\"First 100 features:\\n{}\".format(feature_names[:100]))\n",
    "print(\"Every 100th feature:\\n{}\".format(feature_names[::100]))"
   ]
  },
  {
   "cell_type": "code",
   "execution_count": 37,
   "id": "casual-mumbai",
   "metadata": {},
   "outputs": [],
   "source": [
    "import spacy\n",
    "import re\n",
    "from spacy.lang.en.stop_words import STOP_WORDS"
   ]
  },
  {
   "cell_type": "code",
   "execution_count": 38,
   "id": "enormous-ranch",
   "metadata": {},
   "outputs": [],
   "source": [
    "en_nlp = spacy.load('en_core_web_sm', disable=['parser', 'ner'])\n",
    "pattern = re.compile('(?u)\\\\b\\\\w\\\\w+\\\\b')\n",
    "# pattern = re.compile(r'\\b[^_\\d\\W]+\\b')"
   ]
  },
  {
   "cell_type": "code",
   "execution_count": 39,
   "id": "complimentary-terrorist",
   "metadata": {},
   "outputs": [],
   "source": [
    "def custom_tokenizer(document):\n",
    "    doc_spacy = en_nlp(document)\n",
    "    lemmas = [token.lemma_ for token in doc_spacy]\n",
    "    return [token for token in lemmas if token not in STOP_WORDS and pattern.match(token)]"
   ]
  },
  {
   "cell_type": "code",
   "execution_count": 48,
   "id": "active-multiple",
   "metadata": {},
   "outputs": [
    {
     "name": "stderr",
     "output_type": "stream",
     "text": [
      "d:\\python\\lib\\site-packages\\sklearn\\feature_extraction\\text.py:489: UserWarning: The parameter 'token_pattern' will not be used since 'tokenizer' is not None'\n",
      "  warnings.warn(\"The parameter 'token_pattern' will not be used\"\n"
     ]
    }
   ],
   "source": [
    "vect = TfidfVectorizer(tokenizer=custom_tokenizer, ngram_range=(1, 2),max_features=2000).fit(X_train_docs)\n",
    "X_train_features = vect.transform(X_train_docs)"
   ]
  },
  {
   "cell_type": "code",
   "execution_count": 49,
   "id": "destroyed-proposition",
   "metadata": {},
   "outputs": [
    {
     "name": "stdout",
     "output_type": "stream",
     "text": [
      "Number of features: 2000\n",
      "First 100 features:\n",
      "['10', '10 year', '10/16', '100', '100 share', '1000', '100k', '10k', '10x', '11', '11/20', '12', '12/18', '120', '13', '14', '15', '150', '16', '17', '18', '19', '1k', '1st', '20', '200', '200 day', '2000', '2008', '2016', '2017', '2018', '2019', '2020', '2020 consensus', '2021', '2022', '20c', '20k', '21', '22', '23', '24', '25', '250', '25k', '26', '27', '28', '29', '2k', '2nd', '30', '300', '30c', '30k', '31', '33', '35', '3k', '3rd', '3x', '40', '400', '420', '45', '50', '500', '50k', '52', '55', '5k', '60', '600', '65', '70', '700', '75', '80', '800', '90', '95', 'aal', 'aapl', 'ability', 'able', 'absolute', 'absolutely', 'acb', 'accelerate', 'accept', 'access', 'accord', 'account', 'achieve', 'acquire', 'acquisition', 'act', 'action', 'active']\n",
      "Every 100th feature:\n",
      "['10', 'activity', 'bagger', 'buy stock', 'company like', 'debit spread', 'earning week', 'fake', 'gay', 'hour', 'kodak', 'market open', 'nio', 'personal', 'prpl', 'response', 'share investor', 'stick', 'ticket', 'virgin']\n"
     ]
    }
   ],
   "source": [
    "feature_names = vect.get_feature_names()\n",
    "print(\"Number of features: {}\".format(len(feature_names)))\n",
    "print(\"First 100 features:\\n{}\".format(feature_names[:100]))\n",
    "print(\"Every 100th feature:\\n{}\".format(feature_names[::100]))"
   ]
  },
  {
   "cell_type": "code",
   "execution_count": 42,
   "id": "dirty-employment",
   "metadata": {},
   "outputs": [],
   "source": [
    "# smote = SMOTE()\n",
    "# X_resample, y_resample = smote.fit_resample(X_train_features, y_train.ravel())\n",
    "# pd.DataFrame(y_resample).value_counts()"
   ]
  },
  {
   "cell_type": "code",
   "execution_count": 7,
   "id": "acquired-rocket",
   "metadata": {},
   "outputs": [],
   "source": [
    "# lin_svc = LinearSVC()\n",
    "# scores = cross_val_score(lin_svc, X_train_features, y_train, cv=5)\n",
    "# print(\"mean cross-validation accuracy: {:.2f}\".format(np.mean(scores)))"
   ]
  },
  {
   "cell_type": "code",
   "execution_count": 50,
   "id": "constitutional-narrative",
   "metadata": {},
   "outputs": [
    {
     "data": {
      "text/plain": [
       "CalibratedClassifierCV(base_estimator=LinearSVC())"
      ]
     },
     "execution_count": 50,
     "metadata": {},
     "output_type": "execute_result"
    }
   ],
   "source": [
    "clf = CalibratedClassifierCV(LinearSVC())\n",
    "clf.fit(X_train_features, y_train)\n",
    "# clf.fit(X_resample, y_resample)"
   ]
  },
  {
   "cell_type": "code",
   "execution_count": 51,
   "id": "governing-warning",
   "metadata": {},
   "outputs": [
    {
     "name": "stdout",
     "output_type": "stream",
     "text": [
      "test set validation accuracy: 0.80\n"
     ]
    }
   ],
   "source": [
    "X_test_docs = [doc for doc in X_test.fulltext]\n",
    "X_test_features = vect.transform(X_test_docs)\n",
    "y_test_pred = clf.predict(X_test_features)\n",
    "print(\"test set validation accuracy: {:.2f}\".format(metrics.accuracy_score(y_test, y_test_pred)))"
   ]
  },
  {
   "cell_type": "code",
   "execution_count": 52,
   "id": "proved-encyclopedia",
   "metadata": {},
   "outputs": [
    {
     "data": {
      "text/plain": [
       "<AxesSubplot:xlabel='Predicted', ylabel='True'>"
      ]
     },
     "execution_count": 52,
     "metadata": {},
     "output_type": "execute_result"
    },
    {
     "data": {
      "image/png": "[encoded data removed]",
      "text/plain": [
       "<Figure size 432x288 with 2 Axes>"
      ]
     },
     "metadata": {
      "needs_background": "light"
     },
     "output_type": "display_data"
    }
   ],
   "source": [
    "# m1 = np.array(y_test.apply(lambda x :1 if x == 'HIGH' else 0))\n",
    "# m2 = np.array(pd.DataFrame(y_test_pred).squeeze().apply(lambda x :1 if x == 'HIGH' else 0))\n",
    "df_cm = pd.DataFrame(confusion_matrix(y_test, y_test_pred))\n",
    "df_cm = df_cm.rename({0: 'HIGH', 1: 'LOW'}, axis='index').rename({0: 'HIGH', 1: 'LOW'}, axis='columns')\n",
    "df_cm.index.name = 'True'\n",
    "df_cm.columns.name = 'Predicted'\n",
    "sn.heatmap(df_cm, annot = True, fmt='g', cmap=plt.cm.Blues)"
   ]
  },
  {
   "cell_type": "code",
   "execution_count": 119,
   "id": "annual-criminal",
   "metadata": {},
   "outputs": [
    {
     "data": {
      "text/plain": [
       "<1x2000 sparse matrix of type '<class 'numpy.float64'>'\n",
       "\twith 3 stored elements in Compressed Sparse Row format>"
      ]
     },
     "execution_count": 119,
     "metadata": {},
     "output_type": "execute_result"
    }
   ],
   "source": [
    "a = X_test.iloc[-1]\n",
    "a['fulltext'] = 'elon gme doge video'\n",
    "# a_docs = [doc for doc in a.fulltext]\n",
    "a_f = vect.transform(a)\n",
    "a_f"
   ]
  },
  {
   "cell_type": "code",
   "execution_count": 120,
   "id": "parental-consultancy",
   "metadata": {},
   "outputs": [
    {
     "data": {
      "text/plain": [
       "array(['HIGH'], dtype=object)"
      ]
     },
     "execution_count": 120,
     "metadata": {},
     "output_type": "execute_result"
    }
   ],
   "source": [
    "clf.predict(a_f)"
   ]
  },
  {
   "cell_type": "code",
   "execution_count": 121,
   "id": "rocky-designer",
   "metadata": {},
   "outputs": [
    {
     "data": {
      "text/plain": [
       "array([[0.52545055, 0.47454945]])"
      ]
     },
     "execution_count": 121,
     "metadata": {},
     "output_type": "execute_result"
    }
   ],
   "source": [
    "clf.predict_proba(a_f)"
   ]
  }
 ],
 "metadata": {
  "kernelspec": {
   "display_name": "Python 3",
   "language": "python",
   "name": "python3"
  },
  "language_info": {
   "codemirror_mode": {
    "name": "ipython",
    "version": 3
   },
   "file_extension": ".py",
   "mimetype": "text/x-python",
   "name": "python",
   "nbconvert_exporter": "python",
   "pygments_lexer": "ipython3",
   "version": "3.9.1"
  }
 },
 "nbformat": 4,
 "nbformat_minor": 5
}
