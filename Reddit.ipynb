{
 "cells": [
  {
   "cell_type": "code",
   "execution_count": 1,
   "id": "structural-schedule",
   "metadata": {},
   "outputs": [],
   "source": [
    "import pandas as pd\n",
    "import numpy as np\n",
    "\n",
    "from sklearn.model_selection import train_test_split\n",
    "from sklearn.feature_extraction.text import TfidfVectorizer\n",
    "from sklearn.svm import LinearSVC\n",
    "from sklearn.calibration import CalibratedClassifierCV\n",
    "from sklearn.model_selection import cross_val_score\n",
    "from sklearn import metrics\n",
    "from sklearn.metrics import confusion_matrix, accuracy_score\n",
    "import seaborn as sn\n",
    "import matplotlib.pyplot as plt"
   ]
  },
  {
   "cell_type": "code",
   "execution_count": 2,
   "id": "silent-demographic",
   "metadata": {},
   "outputs": [],
   "source": [
    "df = pd.read_csv('2020_WSB.csv')"
   ]
  },
  {
   "cell_type": "code",
   "execution_count": 3,
   "id": "norman-milan",
   "metadata": {
    "scrolled": false
   },
   "outputs": [
    {
     "name": "stderr",
     "output_type": "stream",
     "text": [
      "<ipython-input-3-799097ac6e58>:9: SettingWithCopyWarning: \n",
      "A value is trying to be set on a copy of a slice from a DataFrame\n",
      "\n",
      "See the caveats in the documentation: https://pandas.pydata.org/pandas-docs/stable/user_guide/indexing.html#returning-a-view-versus-a-copy\n",
      "  df_response['body'][(df_response['body'] == '[removed]')\n",
      "<ipython-input-3-799097ac6e58>:12: SettingWithCopyWarning: \n",
      "A value is trying to be set on a copy of a slice from a DataFrame\n",
      "\n",
      "See the caveats in the documentation: https://pandas.pydata.org/pandas-docs/stable/user_guide/indexing.html#returning-a-view-versus-a-copy\n",
      "  df_response['body'][df_response['body'] == 'text'] = ''\n"
     ]
    }
   ],
   "source": [
    "# 1ST TEST - credibility\n",
    "df_response = df[(df.score != 1) & (df.upvote != 1)]\n",
    "df_response = df_response[(df_response.domain != 'reddit.com')]\n",
    "# content type (image, video etc.)\n",
    "df_response['content'] = df_response.domain.apply(lambda x: 'text' if x == 'self.wallstreetbets' \n",
    "                      else('image' if x == 'i.redd.it' \n",
    "                           else('gif' if x in ['i.imgur.com', 'imgur.com'] \n",
    "                                else('video' if x in ['v.redd.it', 'youtu.be', 'youtube.com'] else 'news'))))\n",
    "df_response['body'][(df_response['body'] == '[removed]') \n",
    "                    | (df_response['body'] == '[deleted]') \n",
    "                    | (df_response['body'].isnull() == True)] = df_response['content']\n",
    "df_response['body'][df_response['body'] == 'text'] = ''\n",
    "df_response['fulltext'] = df_response['title'] + ' ' + df_response['body']\n",
    "# credit\n",
    "upvote75 = df_response['upvote'].quantile(0.75)\n",
    "score75 = df_response['score'].quantile(0.75)\n",
    "def conditions(s):\n",
    "    if (s['score'] >= score75) and (s['upvote'] >= upvote75):\n",
    "        return 'HIGH'\n",
    "    else:\n",
    "        return 'LOW'\n",
    "df_response['credibility'] = df_response.apply(conditions, axis = 1)"
   ]
  },
  {
   "cell_type": "code",
   "execution_count": 4,
   "id": "modular-guyana",
   "metadata": {},
   "outputs": [],
   "source": [
    "X = df_response.loc[:,['fulltext']]\n",
    "y = df_response.credibility\n",
    "X_train, X_test, y_train, y_test = train_test_split(X, y, test_size=0.2, stratify=y)"
   ]
  },
  {
   "cell_type": "code",
   "execution_count": 5,
   "id": "overhead-salem",
   "metadata": {
    "scrolled": false
   },
   "outputs": [],
   "source": [
    "X_train_docs = [doc for doc in X_train.fulltext]\n",
    "vect = TfidfVectorizer(ngram_range=(1, 2), stop_words=\"english\", max_features=3000,token_pattern=r'\\b[^_\\d\\W]+\\b').fit(X_train_docs)\n",
    "X_train_features = vect.transform(X_train_docs)"
   ]
  },
  {
   "cell_type": "code",
   "execution_count": 6,
   "id": "pointed-warning",
   "metadata": {},
   "outputs": [
    {
     "name": "stdout",
     "output_type": "stream",
     "text": [
      "Number of features: 3000\n",
      "First 100 features:\n",
      "['aal', 'aapl', 'ability', 'able', 'absolute', 'absolutely', 'acb', 'access', 'according', 'account', 'accounting', 'accounts', 'accurate', 'ackman', 'acquire', 'acquired', 'acquisition', 'act', 'action', 'actions', 'active', 'activity', 'actual', 'actually', 'ad', 'add', 'added', 'adding', 'addition', 'additional', 'additionally', 'adjusted', 'administration', 'ads', 'advance', 'advanced', 'advantage', 'advertising', 'advice', 'af', 'affect', 'affected', 'afford', 'afternoon', 'age', 'aggressive', 'ago', 'agree', 'agreement', 'ah', 'ahead', 'ai', 'aid', 'ain', 'ain t', 'air', 'airbnb', 'airline', 'airlines', 'aka', 'alert', 'algos', 'alibaba', 'allow', 'allowed', 'allows', 'alright', 'alternative', 'amazing', 'amazon', 'amc', 'amd', 'america', 'american', 'americans', 'ameritrade', 'amid', 'amounts', 'amp', 'amp amp', 'amp s', 'amzn', 'analysis', 'analyst', 'analysts', 'announce', 'announced', 'announcement', 'announces', 'annual', 'answer', 'anti', 'antibody', 'anticipated', 'anybody', 'anymore', 'anytime', 'anyways', 'app', 'apparently']\n",
      "Every 100th feature:\n",
      "['aal', 'appears', 'beat consensus', 'bull', 'cheap', 'company s', 'cure', 'direct', 'elite', 'eyes', 'following', 'god', 'high', 'indicator', 'keeps', 'loan', 'market s', 'moving average', 'opinion', 'pickmojo com', 'pro', 'ready', 'rich', 'seconds', 'slv', 'storage', 'teams', 'trading days', 'v', 'wikipedia org']\n"
     ]
    }
   ],
   "source": [
    "feature_names = vect.get_feature_names()\n",
    "print(\"Number of features: {}\".format(len(feature_names)))\n",
    "print(\"First 100 features:\\n{}\".format(feature_names[:100]))\n",
    "print(\"Every 100th feature:\\n{}\".format(feature_names[::100]))"
   ]
  },
  {
   "cell_type": "code",
   "execution_count": 7,
   "id": "acquired-rocket",
   "metadata": {},
   "outputs": [],
   "source": [
    "lin_svc = LinearSVC()\n",
    "scores = cross_val_score(lin_svc, X_train_features, y_train, cv=5)"
   ]
  },
  {
   "cell_type": "code",
   "execution_count": 8,
   "id": "indian-bolivia",
   "metadata": {},
   "outputs": [
    {
     "name": "stdout",
     "output_type": "stream",
     "text": [
      "mean cross-validation accuracy: 0.80\n"
     ]
    }
   ],
   "source": [
    "print(\"mean cross-validation accuracy: {:.2f}\".format(np.mean(scores)))"
   ]
  },
  {
   "cell_type": "code",
   "execution_count": 9,
   "id": "ordered-recruitment",
   "metadata": {},
   "outputs": [],
   "source": [
    "# lin_svc.fit(X_train_features, y_train)\n",
    "clf = CalibratedClassifierCV(lin_svc)\n",
    "clf.fit(X_train_features, y_train)\n",
    "X_test_docs = [doc for doc in X_test.fulltext]\n",
    "X_test_features = vect.transform(X_test_docs)\n",
    "y_test_pred = clf.predict(X_test_features)"
   ]
  },
  {
   "cell_type": "code",
   "execution_count": 10,
   "id": "fourth-profession",
   "metadata": {},
   "outputs": [
    {
     "name": "stdout",
     "output_type": "stream",
     "text": [
      "test set validation accuracy: 0.81\n"
     ]
    }
   ],
   "source": [
    "print(\"test set validation accuracy: {:.2f}\".format(metrics.accuracy_score(y_test, y_test_pred)))"
   ]
  },
  {
   "cell_type": "code",
   "execution_count": 11,
   "id": "proved-encyclopedia",
   "metadata": {},
   "outputs": [
    {
     "data": {
      "text/plain": [
       "<AxesSubplot:xlabel='Predicted', ylabel='True'>"
      ]
     },
     "execution_count": 11,
     "metadata": {},
     "output_type": "execute_result"
    },
    {
     "data": {
      "image/png": "[encoded data removed]",
      "text/plain": [
       "<Figure size 432x288 with 2 Axes>"
      ]
     },
     "metadata": {
      "needs_background": "light"
     },
     "output_type": "display_data"
    }
   ],
   "source": [
    "# m1 = np.array(y_test.apply(lambda x :1 if x == 'HIGH' else 0))\n",
    "# m2 = np.array(pd.DataFrame(y_test_pred).squeeze().apply(lambda x :1 if x == 'HIGH' else 0))\n",
    "df_cm = pd.DataFrame(confusion_matrix(y_test, y_test_pred))\n",
    "df_cm = df_cm.rename({0: 'HIGH', 1: 'LOW'}, axis='index').rename({0: 'HIGH', 1: 'LOW'}, axis='columns')\n",
    "df_cm.index.name = 'True'\n",
    "df_cm.columns.name = 'Predicted'\n",
    "sn.heatmap(df_cm, annot = True,fmt='g', cmap=plt.cm.Blues)"
   ]
  },
  {
   "cell_type": "code",
   "execution_count": 12,
   "id": "annual-criminal",
   "metadata": {},
   "outputs": [
    {
     "data": {
      "text/plain": [
       "<1x3000 sparse matrix of type '<class 'numpy.float64'>'\n",
       "\twith 3 stored elements in Compressed Sparse Row format>"
      ]
     },
     "execution_count": 12,
     "metadata": {},
     "output_type": "execute_result"
    }
   ],
   "source": [
    "a = X_test.iloc[-1]\n",
    "a['fulltext'] = 'gme hold image'\n",
    "# a_docs = [doc for doc in a.fulltext]\n",
    "a_f = vect.transform(a)\n",
    "a_f"
   ]
  },
  {
   "cell_type": "code",
   "execution_count": 13,
   "id": "parental-consultancy",
   "metadata": {},
   "outputs": [
    {
     "data": {
      "text/plain": [
       "array(['LOW'], dtype=object)"
      ]
     },
     "execution_count": 13,
     "metadata": {},
     "output_type": "execute_result"
    }
   ],
   "source": [
    "clf.predict(a_f)"
   ]
  },
  {
   "cell_type": "code",
   "execution_count": 14,
   "id": "rocky-designer",
   "metadata": {},
   "outputs": [
    {
     "data": {
      "text/plain": [
       "array([[0.3313315, 0.6686685]])"
      ]
     },
     "execution_count": 14,
     "metadata": {},
     "output_type": "execute_result"
    }
   ],
   "source": [
    "clf.predict_proba(a_f)"
   ]
  }
 ],
 "metadata": {
  "kernelspec": {
   "display_name": "Python 3",
   "language": "python",
   "name": "python3"
  },
  "language_info": {
   "codemirror_mode": {
    "name": "ipython",
    "version": 3
   },
   "file_extension": ".py",
   "mimetype": "text/x-python",
   "name": "python",
   "nbconvert_exporter": "python",
   "pygments_lexer": "ipython3",
   "version": "3.9.1"
  }
 },
 "nbformat": 4,
 "nbformat_minor": 5
}
